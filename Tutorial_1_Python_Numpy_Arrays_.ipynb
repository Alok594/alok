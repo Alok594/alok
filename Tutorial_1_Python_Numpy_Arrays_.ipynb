{
  "cells": [
    {
      "cell_type": "markdown",
      "metadata": {
        "id": "view-in-github",
        "colab_type": "text"
      },
      "source": [
        "<a href=\"https://colab.research.google.com/github/Alok594/alok/blob/main/Tutorial_1_Python_Numpy_Arrays_.ipynb\" target=\"_parent\"><img src=\"https://colab.research.google.com/assets/colab-badge.svg\" alt=\"Open In Colab\"/></a>"
      ]
    },
    {
      "cell_type": "markdown",
      "id": "a6ee34e0",
      "metadata": {
        "id": "a6ee34e0"
      },
      "source": [
        "## Tutorial 8-Python Numpy Arrays"
      ]
    },
    {
      "cell_type": "markdown",
      "source": [],
      "metadata": {
        "id": "B45QFUOmib-n"
      },
      "id": "B45QFUOmib-n"
    },
    {
      "cell_type": "markdown",
      "id": "332fa60e",
      "metadata": {
        "id": "332fa60e"
      },
      "source": [
        "## Numpy Tutorials\n",
        "NumPy is a general-purpose array-processing package. It provides a high-performance multidimensional array object, and tools for working with these arrays. It is the fundamental package for scientific computing with Python"
      ]
    },
    {
      "cell_type": "markdown",
      "id": "07522d00",
      "metadata": {
        "id": "07522d00"
      },
      "source": [
        "## What is an array\n",
        "An array is a data structure that stores values of same data type. In Python, this is the main difference between arrays and lists. While python lists can contain values corresponding to different data types, arrays in python can only contain values corresponding to same data type"
      ]
    },
    {
      "cell_type": "code",
      "execution_count": 2,
      "id": "b185b2c6",
      "metadata": {
        "id": "b185b2c6"
      },
      "outputs": [],
      "source": [
        "## import the library\n",
        "import numpy as np"
      ]
    },
    {
      "cell_type": "code",
      "execution_count": 7,
      "id": "bb1b5a35",
      "metadata": {
        "colab": {
          "base_uri": "https://localhost:8080/"
        },
        "id": "bb1b5a35",
        "outputId": "5e70cbb8-439d-4ca3-f6dd-33c53bcc4482"
      },
      "outputs": [
        {
          "output_type": "execute_result",
          "data": {
            "text/plain": [
              "array([1, 2, 3, 4])"
            ]
          },
          "metadata": {},
          "execution_count": 7
        }
      ],
      "source": [
        "## use to convert list into array\n",
        "## if ek bracket open and close ho to single dimensional array\n",
        "## if do bracket open aur close ho to double dimensional array\n",
        "## if 3 bracket open aur close ho to triple dimensional array\n",
        "lst=[1,2,3,4]\n",
        "arr=np.array(lst)"
      ]
    },
    {
      "cell_type": "code",
      "execution_count": null,
      "id": "1f8d70bb",
      "metadata": {
        "id": "1f8d70bb",
        "outputId": "3c40f819-c53a-41a1-f4c4-07cdaba24ed1"
      },
      "outputs": [
        {
          "data": {
            "text/plain": [
              "numpy.ndarray"
            ]
          },
          "execution_count": 4,
          "metadata": {},
          "output_type": "execute_result"
        }
      ],
      "source": [
        "type(arr)"
      ]
    },
    {
      "cell_type": "code",
      "execution_count": null,
      "id": "d145b60f",
      "metadata": {
        "id": "d145b60f",
        "outputId": "9c1ae1f2-2b12-4dab-d958-6012e4375d59"
      },
      "outputs": [
        {
          "data": {
            "text/plain": [
              "(4,)"
            ]
          },
          "execution_count": 5,
          "metadata": {},
          "output_type": "execute_result"
        }
      ],
      "source": [
        "arr.shape"
      ]
    },
    {
      "cell_type": "code",
      "execution_count": null,
      "id": "d6f716b0",
      "metadata": {
        "id": "d6f716b0"
      },
      "outputs": [],
      "source": [
        "lst1=[1,2,3,4,5]\n",
        "lst2=[2,3,4,5,6]\n",
        "lst3=[3,4,5,6,7]\n",
        "\n",
        "arr1=np.array([lst1,lst2,lst3])"
      ]
    },
    {
      "cell_type": "code",
      "execution_count": null,
      "id": "a81d1013",
      "metadata": {
        "id": "a81d1013",
        "outputId": "3c097662-417e-4af8-d766-adc39294c7c9"
      },
      "outputs": [
        {
          "data": {
            "text/plain": [
              "array([[1, 2, 3, 4, 5],\n",
              "       [2, 3, 4, 5, 6],\n",
              "       [3, 4, 5, 6, 7]])"
            ]
          },
          "execution_count": 9,
          "metadata": {},
          "output_type": "execute_result"
        }
      ],
      "source": [
        "arr1"
      ]
    },
    {
      "cell_type": "code",
      "execution_count": null,
      "id": "71f2ad15",
      "metadata": {
        "id": "71f2ad15",
        "outputId": "dc14711e-9393-459d-a18f-d217b062f918"
      },
      "outputs": [
        {
          "data": {
            "text/plain": [
              "(3, 5)"
            ]
          },
          "execution_count": 8,
          "metadata": {},
          "output_type": "execute_result"
        }
      ],
      "source": [
        "#it tell us number of row and no of culumn\n",
        "arr1.shape"
      ]
    },
    {
      "cell_type": "code",
      "execution_count": null,
      "id": "23550f22",
      "metadata": {
        "id": "23550f22",
        "outputId": "80f166ff-6c3e-452c-c23b-6909c28fe58c"
      },
      "outputs": [
        {
          "data": {
            "text/plain": [
              "array([1, 2, 3, 4])"
            ]
          },
          "execution_count": 10,
          "metadata": {},
          "output_type": "execute_result"
        }
      ],
      "source": [
        "arr"
      ]
    },
    {
      "cell_type": "code",
      "execution_count": null,
      "id": "a6090742",
      "metadata": {
        "id": "a6090742",
        "outputId": "423fb901-a79b-446c-83d2-b245b7f81fa1"
      },
      "outputs": [
        {
          "data": {
            "text/plain": [
              "4"
            ]
          },
          "execution_count": 12,
          "metadata": {},
          "output_type": "execute_result"
        }
      ],
      "source": [
        "#indexing start with 0\n",
        "# retriving of element from array\n",
        "arr[3]"
      ]
    },
    {
      "cell_type": "code",
      "execution_count": 11,
      "id": "17b36e76",
      "metadata": {
        "id": "17b36e76"
      },
      "outputs": [],
      "source": [
        "## we can update value in array\n",
        "arr[3]=5"
      ]
    },
    {
      "cell_type": "code",
      "execution_count": 13,
      "id": "55144bda",
      "metadata": {
        "colab": {
          "base_uri": "https://localhost:8080/"
        },
        "id": "55144bda",
        "outputId": "2f583913-3eac-4cf7-f5f0-73eaba6de769"
      },
      "outputs": [
        {
          "output_type": "execute_result",
          "data": {
            "text/plain": [
              "array([1, 2, 3, 5])"
            ]
          },
          "metadata": {},
          "execution_count": 13
        }
      ],
      "source": [
        "# after updating a[3]\n",
        "arr"
      ]
    },
    {
      "cell_type": "code",
      "execution_count": 16,
      "id": "549a9c41",
      "metadata": {
        "colab": {
          "base_uri": "https://localhost:8080/"
        },
        "id": "549a9c41",
        "outputId": "76298f57-60dd-47b2-93d9-e91d13010af4"
      },
      "outputs": [
        {
          "output_type": "execute_result",
          "data": {
            "text/plain": [
              "array([2, 3])"
            ]
          },
          "metadata": {},
          "execution_count": 16
        }
      ],
      "source": [
        "#first number inlude and last was exclude\n",
        "# we can also do indexing from back side\n",
        "arr[1:3]\n",
        "# arr[-1]"
      ]
    },
    {
      "cell_type": "code",
      "execution_count": null,
      "id": "86917975",
      "metadata": {
        "id": "86917975",
        "outputId": "f2009474-9e78-4b21-9fb9-bc07a58ec4c4"
      },
      "outputs": [
        {
          "data": {
            "text/plain": [
              "array([1, 2, 3])"
            ]
          },
          "execution_count": 21,
          "metadata": {},
          "output_type": "execute_result"
        }
      ],
      "source": [
        "arr[:-1]"
      ]
    },
    {
      "cell_type": "code",
      "execution_count": null,
      "id": "6944a7ac",
      "metadata": {
        "id": "6944a7ac",
        "outputId": "2f7342f1-c0e8-4b9b-af24-dba7bf29dbf8"
      },
      "outputs": [
        {
          "data": {
            "text/plain": [
              "array([5, 1])"
            ]
          },
          "execution_count": 25,
          "metadata": {},
          "output_type": "execute_result"
        }
      ],
      "source": [
        "# it will reverse array\n",
        "arr[::-1]\n",
        "# it will print number from reverse direction  but also it will some  no of index and the no of index will be equal to -3 (last wala number jo index jo hoga )+1\n",
        "arr[::-3]"
      ]
    },
    {
      "cell_type": "code",
      "execution_count": null,
      "id": "c45419ad",
      "metadata": {
        "id": "c45419ad",
        "outputId": "44875fd9-9882-4a06-bfe1-6a53e2612ffd"
      },
      "outputs": [
        {
          "data": {
            "text/plain": [
              "array([[1, 2, 3, 4, 5],\n",
              "       [2, 3, 4, 5, 6],\n",
              "       [3, 4, 5, 6, 7]])"
            ]
          },
          "execution_count": 26,
          "metadata": {},
          "output_type": "execute_result"
        }
      ],
      "source": [
        "arr1"
      ]
    },
    {
      "cell_type": "code",
      "execution_count": null,
      "id": "2cdcf9f7",
      "metadata": {
        "id": "2cdcf9f7",
        "outputId": "82e35a51-a592-4e61-ed21-461a7e1f5540"
      },
      "outputs": [
        {
          "data": {
            "text/plain": [
              "(3, 2)"
            ]
          },
          "execution_count": 32,
          "metadata": {},
          "output_type": "execute_result"
        }
      ],
      "source": [
        "arr1[:,3:].shape"
      ]
    },
    {
      "cell_type": "code",
      "execution_count": null,
      "id": "5b67e1e5",
      "metadata": {
        "id": "5b67e1e5",
        "outputId": "c7f548c7-8c9a-4fa6-9d3b-3cfa31322c1e"
      },
      "outputs": [
        {
          "data": {
            "text/plain": [
              "array([2, 3, 4])"
            ]
          },
          "execution_count": 28,
          "metadata": {},
          "output_type": "execute_result"
        }
      ],
      "source": [
        "# retrieving element from double dimensional array ->: semi colon matalb sara row right number will  show nth number  of column\n",
        "arr1[:,1]"
      ]
    },
    {
      "cell_type": "code",
      "execution_count": null,
      "id": "59aab9ee",
      "metadata": {
        "id": "59aab9ee",
        "outputId": "49b2d0cd-f832-46a0-ca90-905f00ef48d6"
      },
      "outputs": [
        {
          "data": {
            "text/plain": [
              "array([[3, 4],\n",
              "       [4, 5]])"
            ]
          },
          "execution_count": 29,
          "metadata": {},
          "output_type": "execute_result"
        }
      ],
      "source": [
        "# retrieving of chhota sa two  dimensional array from original two dimensional array\n",
        "arr1[1:,1:3]"
      ]
    },
    {
      "cell_type": "code",
      "execution_count": null,
      "id": "060e8f8b",
      "metadata": {
        "id": "060e8f8b",
        "outputId": "83fa9ead-473b-4779-8495-88de19b49e38"
      },
      "outputs": [
        {
          "data": {
            "text/plain": [
              "array([[5, 6],\n",
              "       [6, 7]])"
            ]
          },
          "execution_count": 30,
          "metadata": {},
          "output_type": "execute_result"
        }
      ],
      "source": [
        "arr1[1:,3:]"
      ]
    },
    {
      "cell_type": "code",
      "execution_count": null,
      "id": "a515ea9c",
      "metadata": {
        "id": "a515ea9c",
        "outputId": "f962db64-6245-4684-a628-5fa1d145d7e4"
      },
      "outputs": [
        {
          "data": {
            "text/plain": [
              "array([1, 2, 3, 5])"
            ]
          },
          "execution_count": 33,
          "metadata": {},
          "output_type": "execute_result"
        }
      ],
      "source": [
        "##EDA\n",
        "arr"
      ]
    },
    {
      "cell_type": "code",
      "execution_count": null,
      "id": "55a75b02",
      "metadata": {
        "id": "55a75b02",
        "outputId": "54a478e0-7e71-4d85-8ecb-ea443c218f64"
      },
      "outputs": [
        {
          "data": {
            "text/plain": [
              "array([1])"
            ]
          },
          "execution_count": 35,
          "metadata": {},
          "output_type": "execute_result"
        }
      ],
      "source": [
        "# arr<2 give true for un element ke  jo 2 se small honge otherwise it will give false\n",
        "arr[arr<2]"
      ]
    },
    {
      "cell_type": "code",
      "execution_count": null,
      "id": "c9584f93",
      "metadata": {
        "id": "c9584f93",
        "outputId": "d51cc968-d462-4971-e13c-6c9be157132e"
      },
      "outputs": [
        {
          "data": {
            "text/plain": [
              "array([[1, 2, 3, 4, 5],\n",
              "       [2, 3, 4, 5, 6],\n",
              "       [3, 4, 5, 6, 7]])"
            ]
          },
          "execution_count": 37,
          "metadata": {},
          "output_type": "execute_result"
        }
      ],
      "source": [
        "arr1"
      ]
    },
    {
      "cell_type": "code",
      "execution_count": null,
      "id": "6d6d0a24",
      "metadata": {
        "id": "6d6d0a24",
        "outputId": "77a28d90-f6ef-45ff-d582-08f92bfaff0c"
      },
      "outputs": [
        {
          "data": {
            "text/plain": [
              "array([[1, 2, 3],\n",
              "       [4, 5, 2],\n",
              "       [3, 4, 5],\n",
              "       [6, 3, 4],\n",
              "       [5, 6, 7]])"
            ]
          },
          "execution_count": 40,
          "metadata": {},
          "output_type": "execute_result"
        }
      ],
      "source": [
        "# reshape will change two dimensional array like if we inchange row and column  then it will change the shape like that\n",
        "arr1.reshape(5,3)"
      ]
    },
    {
      "cell_type": "code",
      "execution_count": null,
      "id": "d1462081",
      "metadata": {
        "id": "d1462081",
        "outputId": "a10adddb-9278-434b-c5c8-c78f416fef53"
      },
      "outputs": [
        {
          "data": {
            "text/plain": [
              "array([[ 1,  3,  5,  7,  9],\n",
              "       [11, 13, 15, 17, 19]])"
            ]
          },
          "execution_count": 44,
          "metadata": {},
          "output_type": "execute_result"
        }
      ],
      "source": [
        "##mechanism to create an array and reshape se we will create it into 2 dimensional array\n",
        "# arange is inbuilt function to convert it into array\n",
        "# arange(start,stop,step)\n",
        "np.arange(1,20,2).reshape(2,5)"
      ]
    },
    {
      "cell_type": "code",
      "execution_count": null,
      "id": "ce3eada1",
      "metadata": {
        "id": "ce3eada1",
        "outputId": "9d239d81-4432-400c-b97c-769e4d4209a7"
      },
      "outputs": [
        {
          "data": {
            "text/plain": [
              "array([[[ 1],\n",
              "        [ 3],\n",
              "        [ 5],\n",
              "        [ 7],\n",
              "        [ 9]],\n",
              "\n",
              "       [[11],\n",
              "        [13],\n",
              "        [15],\n",
              "        [17],\n",
              "        [19]]])"
            ]
          },
          "execution_count": 47,
          "metadata": {},
          "output_type": "execute_result"
        }
      ],
      "source": [
        "np.arange(1,20,2).reshape(2,5,1)"
      ]
    },
    {
      "cell_type": "code",
      "execution_count": null,
      "id": "be8061d2",
      "metadata": {
        "id": "be8061d2",
        "outputId": "21ece2d5-1df5-4ec2-f627-c3103c90a28c"
      },
      "outputs": [
        {
          "data": {
            "text/plain": [
              "array([ 1,  4,  9, 25])"
            ]
          },
          "execution_count": 49,
          "metadata": {},
          "output_type": "execute_result"
        }
      ],
      "source": [
        " # it will simply multiply number with same postions\n",
        " # arr*2 it mean all number will multiply by 2 of arr\n",
        "arr *arr"
      ]
    },
    {
      "cell_type": "code",
      "execution_count": null,
      "id": "558ee842",
      "metadata": {
        "id": "558ee842",
        "outputId": "b61a5d37-6ab2-456c-e527-ef0bf4185c45"
      },
      "outputs": [
        {
          "data": {
            "text/plain": [
              "array([[ 1,  4,  9, 16, 25],\n",
              "       [ 4,  9, 16, 25, 36],\n",
              "       [ 9, 16, 25, 36, 49]])"
            ]
          },
          "execution_count": 52,
          "metadata": {},
          "output_type": "execute_result"
        }
      ],
      "source": [
        "arr1 * arr1"
      ]
    },
    {
      "cell_type": "code",
      "execution_count": null,
      "id": "bbe15cc2",
      "metadata": {
        "id": "bbe15cc2",
        "outputId": "f5da719f-2b90-4d92-c9f4-2889fdaea041"
      },
      "outputs": [
        {
          "data": {
            "text/plain": [
              "array([[1., 1., 1.],\n",
              "       [1., 1., 1.],\n",
              "       [1., 1., 1.],\n",
              "       [1., 1., 1.],\n",
              "       [1., 1., 1.]])"
            ]
          },
          "execution_count": 53,
          "metadata": {},
          "output_type": "execute_result"
        }
      ],
      "source": [
        "# 5,3 dimesional array will be made by 1\n",
        "np.ones((5,3))"
      ]
    },
    {
      "cell_type": "code",
      "execution_count": null,
      "id": "6533e57a",
      "metadata": {
        "id": "6533e57a",
        "outputId": "1395ba1f-e9e2-46a7-bcc3-7ca3ad0b04ca"
      },
      "outputs": [
        {
          "data": {
            "text/plain": [
              "array([[0., 0., 0., 0., 0.],\n",
              "       [0., 0., 0., 0., 0.],\n",
              "       [0., 0., 0., 0., 0.],\n",
              "       [0., 0., 0., 0., 0.]])"
            ]
          },
          "execution_count": 54,
          "metadata": {},
          "output_type": "execute_result"
        }
      ],
      "source": [
        "np.zeros((4,5))"
      ]
    },
    {
      "cell_type": "code",
      "execution_count": null,
      "id": "b69c75d0",
      "metadata": {
        "id": "b69c75d0",
        "outputId": "67aa6d2f-9988-4852-dfd5-6a5642221a3e"
      },
      "outputs": [
        {
          "data": {
            "text/plain": [
              "array([[42, 24],\n",
              "       [42, 27]])"
            ]
          },
          "execution_count": 78,
          "metadata": {},
          "output_type": "execute_result"
        }
      ],
      "source": [
        "# randit function give 10 se 50 ke beech mein 4 value\n",
        "np.random.randint(10,50,4).reshape(2,2)"
      ]
    },
    {
      "cell_type": "code",
      "execution_count": null,
      "id": "1c57dfae",
      "metadata": {
        "id": "1c57dfae",
        "outputId": "03a0516e-7af7-4672-e47a-c82cd5ebb3d1"
      },
      "outputs": [
        {
          "data": {
            "text/plain": [
              "array([[-1.81506768, -0.18073426,  1.50531807,  0.04701715,  0.00345232,\n",
              "        -1.89048526],\n",
              "       [-1.19316745, -0.8222509 , -0.11386853, -1.47422866,  2.28291196,\n",
              "         0.02731563],\n",
              "       [ 0.4027173 ,  0.02478252, -1.44510603, -0.99842738, -0.07634666,\n",
              "        -0.81335324],\n",
              "       [ 0.9692424 ,  1.41109806, -0.33335031,  1.18717669,  0.59522992,\n",
              "         0.88923165],\n",
              "       [ 1.10478558, -0.44639422,  0.06939313,  0.64813885,  0.54669759,\n",
              "        -0.19369955]])"
            ]
          },
          "execution_count": 79,
          "metadata": {},
          "output_type": "execute_result"
        }
      ],
      "source": [
        "np.random.randn(5,6)"
      ]
    },
    {
      "cell_type": "code",
      "execution_count": null,
      "id": "c4e377f7",
      "metadata": {
        "id": "c4e377f7",
        "outputId": "ff529332-2fa3-4e14-d6f3-3f4dfe19a0aa"
      },
      "outputs": [
        {
          "data": {
            "text/plain": [
              "array([[0.13871895, 0.58456466, 0.31541441, 0.67910295, 0.1837086 ,\n",
              "        0.08103746, 0.50976945],\n",
              "       [0.67483078, 0.41252643, 0.0877961 , 0.92338101, 0.25762097,\n",
              "        0.55850649, 0.26534539],\n",
              "       [0.05930126, 0.53209293, 0.90407746, 0.71743787, 0.89905166,\n",
              "        0.22360872, 0.10365036],\n",
              "       [0.36820358, 0.30483507, 0.49569278, 0.7850211 , 0.96484935,\n",
              "        0.72614993, 0.83010606]])"
            ]
          },
          "execution_count": 80,
          "metadata": {},
          "output_type": "execute_result"
        }
      ],
      "source": [
        "random intialize by standard normal distribution mean 0 hoga\n",
        "np.random.random_sample((4,7))"
      ]
    },
    {
      "cell_type": "code",
      "execution_count": null,
      "id": "b1db7481",
      "metadata": {
        "id": "b1db7481"
      },
      "outputs": [],
      "source": []
    }
  ],
  "metadata": {
    "kernelspec": {
      "display_name": "Python 3 (ipykernel)",
      "language": "python",
      "name": "python3"
    },
    "language_info": {
      "codemirror_mode": {
        "name": "ipython",
        "version": 3
      },
      "file_extension": ".py",
      "mimetype": "text/x-python",
      "name": "python",
      "nbconvert_exporter": "python",
      "pygments_lexer": "ipython3",
      "version": "3.9.7"
    },
    "colab": {
      "provenance": [],
      "include_colab_link": true
    }
  },
  "nbformat": 4,
  "nbformat_minor": 5
}