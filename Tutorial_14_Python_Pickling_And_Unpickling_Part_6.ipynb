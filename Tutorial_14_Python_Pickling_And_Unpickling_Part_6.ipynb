{
  "cells": [
    {
      "cell_type": "markdown",
      "metadata": {
        "id": "view-in-github",
        "colab_type": "text"
      },
      "source": [
        "<a href=\"https://colab.research.google.com/github/Alok594/alok/blob/main/Tutorial_14_Python_Pickling_And_Unpickling_Part_6.ipynb\" target=\"_parent\"><img src=\"https://colab.research.google.com/assets/colab-badge.svg\" alt=\"Open In Colab\"/></a>"
      ]
    },
    {
      "cell_type": "markdown",
      "id": "b3842f2f",
      "metadata": {
        "id": "b3842f2f"
      },
      "source": [
        "## Tutorial 14- Python Pickling And Unpickling"
      ]
    },
    {
      "cell_type": "markdown",
      "id": "31ff8cdc",
      "metadata": {
        "id": "31ff8cdc"
      },
      "source": [
        "The pickle module implements binary protocols for serializing and de-serializing a Python object structure. “Pickling” is the process whereby a Python object hierarchy is converted into a byte stream, and “unpickling” is the inverse operation, whereby a byte stream (from a binary file or bytes-like object) is converted back into an object hierarchy. Pickling (and unpickling) is alternatively known as “serialization”, “marshalling,” 1 or “flattening”; however, to avoid confusion, the terms used here are “pickling” and “unpickling”."
      ]
    },
    {
      "cell_type": "markdown",
      "id": "6458c424",
      "metadata": {
        "id": "6458c424"
      },
      "source": [
        "Pickle in Python is primarily used in serializing and deserializing a Python object structure. In other words, it's the process of converting a Python object into a byte stream to store it in a file/database, maintain program state across sessions, or transport data over the network"
      ]
    },
    {
      "cell_type": "code",
      "execution_count": null,
      "id": "e9cb329f",
      "metadata": {
        "id": "e9cb329f"
      },
      "outputs": [],
      "source": [
        "# Object hierarchy refers to the structure in which objects or entities are arranged in a parent-child relationship, often in a tree-like format.\n",
        "# niche jo hai wo ek lib ai python mein\n",
        "import seaborn as sns"
      ]
    },
    {
      "cell_type": "code",
      "execution_count": null,
      "id": "a706b1b6",
      "metadata": {
        "id": "a706b1b6"
      },
      "outputs": [],
      "source": [
        "# The code df = sns.load_dataset('tips') is used to load a dataset called \"tips\" into a Pandas DataFrame named df using the Seaborn library in Python.\n",
        "df=sns.load_dataset('tips')"
      ]
    },
    {
      "cell_type": "code",
      "execution_count": null,
      "id": "693bf128",
      "metadata": {
        "id": "693bf128",
        "outputId": "26e279cd-c1bc-4251-ab37-3022896b0667"
      },
      "outputs": [
        {
          "data": {
            "text/html": [
              "<div>\n",
              "<style scoped>\n",
              "    .dataframe tbody tr th:only-of-type {\n",
              "        vertical-align: middle;\n",
              "    }\n",
              "\n",
              "    .dataframe tbody tr th {\n",
              "        vertical-align: top;\n",
              "    }\n",
              "\n",
              "    .dataframe thead th {\n",
              "        text-align: right;\n",
              "    }\n",
              "</style>\n",
              "<table border=\"1\" class=\"dataframe\">\n",
              "  <thead>\n",
              "    <tr style=\"text-align: right;\">\n",
              "      <th></th>\n",
              "      <th>total_bill</th>\n",
              "      <th>tip</th>\n",
              "      <th>sex</th>\n",
              "      <th>smoker</th>\n",
              "      <th>day</th>\n",
              "      <th>time</th>\n",
              "      <th>size</th>\n",
              "    </tr>\n",
              "  </thead>\n",
              "  <tbody>\n",
              "    <tr>\n",
              "      <th>0</th>\n",
              "      <td>16.99</td>\n",
              "      <td>1.01</td>\n",
              "      <td>Female</td>\n",
              "      <td>No</td>\n",
              "      <td>Sun</td>\n",
              "      <td>Dinner</td>\n",
              "      <td>2</td>\n",
              "    </tr>\n",
              "    <tr>\n",
              "      <th>1</th>\n",
              "      <td>10.34</td>\n",
              "      <td>1.66</td>\n",
              "      <td>Male</td>\n",
              "      <td>No</td>\n",
              "      <td>Sun</td>\n",
              "      <td>Dinner</td>\n",
              "      <td>3</td>\n",
              "    </tr>\n",
              "    <tr>\n",
              "      <th>2</th>\n",
              "      <td>21.01</td>\n",
              "      <td>3.50</td>\n",
              "      <td>Male</td>\n",
              "      <td>No</td>\n",
              "      <td>Sun</td>\n",
              "      <td>Dinner</td>\n",
              "      <td>3</td>\n",
              "    </tr>\n",
              "    <tr>\n",
              "      <th>3</th>\n",
              "      <td>23.68</td>\n",
              "      <td>3.31</td>\n",
              "      <td>Male</td>\n",
              "      <td>No</td>\n",
              "      <td>Sun</td>\n",
              "      <td>Dinner</td>\n",
              "      <td>2</td>\n",
              "    </tr>\n",
              "    <tr>\n",
              "      <th>4</th>\n",
              "      <td>24.59</td>\n",
              "      <td>3.61</td>\n",
              "      <td>Female</td>\n",
              "      <td>No</td>\n",
              "      <td>Sun</td>\n",
              "      <td>Dinner</td>\n",
              "      <td>4</td>\n",
              "    </tr>\n",
              "  </tbody>\n",
              "</table>\n",
              "</div>"
            ],
            "text/plain": [
              "   total_bill   tip     sex smoker  day    time  size\n",
              "0       16.99  1.01  Female     No  Sun  Dinner     2\n",
              "1       10.34  1.66    Male     No  Sun  Dinner     3\n",
              "2       21.01  3.50    Male     No  Sun  Dinner     3\n",
              "3       23.68  3.31    Male     No  Sun  Dinner     2\n",
              "4       24.59  3.61  Female     No  Sun  Dinner     4"
            ]
          },
          "execution_count": 14,
          "metadata": {},
          "output_type": "execute_result"
        }
      ],
      "source": [
        "df.head()"
      ]
    },
    {
      "cell_type": "code",
      "execution_count": null,
      "id": "57240059",
      "metadata": {
        "id": "57240059"
      },
      "outputs": [],
      "source": [
        "# The import pickle statement in Python is used to import the pickle module, which provides a way to serialize and deserialize Python objects.\n",
        "import pickle"
      ]
    },
    {
      "cell_type": "code",
      "execution_count": null,
      "id": "e420ff50",
      "metadata": {
        "id": "e420ff50"
      },
      "outputs": [],
      "source": [
        "# the variable filename = 'file.pkl' is simply assigning the string 'file.pkl' to the variable filename. This string represents the name of a file with a .pkl extension, which is commonly used for files that contain serialized (pickled) Python objects.\n",
        "filename='file.pkl'"
      ]
    },
    {
      "cell_type": "markdown",
      "source": [
        "open(filename, 'wb'):\n",
        "\n",
        "open(): This function opens a file. It requires two arguments: the file name and the mode in which to open the file.\n",
        "filename: This is the name of the file where you want to save the serialized object. It's a variable that holds the file name (for example, 'file.pkl').\n",
        "'wb': This specifies the mode in which to open the file:\n",
        "'w' stands for write mode, meaning you're opening the file to write data to it.\n",
        "'b' stands for binary mode, which is required for writing byte streams (as opposed to text)."
      ],
      "metadata": {
        "id": "enArHB7TVq4y"
      },
      "id": "enArHB7TVq4y"
    },
    {
      "cell_type": "code",
      "execution_count": null,
      "id": "e23e3fab",
      "metadata": {
        "id": "e23e3fab"
      },
      "outputs": [],
      "source": [
        "##serialize process\n",
        "pickle.dump(df,open(filename,'wb'))"
      ]
    },
    {
      "cell_type": "code",
      "execution_count": null,
      "id": "eab03f20",
      "metadata": {
        "id": "eab03f20"
      },
      "outputs": [],
      "source": [
        "##unsereliaze\n",
        "df=pickle.load(open(filename,'rb'))"
      ]
    },
    {
      "cell_type": "code",
      "execution_count": null,
      "id": "ea1b56a0",
      "metadata": {
        "id": "ea1b56a0",
        "outputId": "d7454ea1-8047-4eca-d1c6-1a1c9b40c5a8"
      },
      "outputs": [
        {
          "data": {
            "text/html": [
              "<div>\n",
              "<style scoped>\n",
              "    .dataframe tbody tr th:only-of-type {\n",
              "        vertical-align: middle;\n",
              "    }\n",
              "\n",
              "    .dataframe tbody tr th {\n",
              "        vertical-align: top;\n",
              "    }\n",
              "\n",
              "    .dataframe thead th {\n",
              "        text-align: right;\n",
              "    }\n",
              "</style>\n",
              "<table border=\"1\" class=\"dataframe\">\n",
              "  <thead>\n",
              "    <tr style=\"text-align: right;\">\n",
              "      <th></th>\n",
              "      <th>total_bill</th>\n",
              "      <th>tip</th>\n",
              "      <th>sex</th>\n",
              "      <th>smoker</th>\n",
              "      <th>day</th>\n",
              "      <th>time</th>\n",
              "      <th>size</th>\n",
              "    </tr>\n",
              "  </thead>\n",
              "  <tbody>\n",
              "    <tr>\n",
              "      <th>0</th>\n",
              "      <td>16.99</td>\n",
              "      <td>1.01</td>\n",
              "      <td>Female</td>\n",
              "      <td>No</td>\n",
              "      <td>Sun</td>\n",
              "      <td>Dinner</td>\n",
              "      <td>2</td>\n",
              "    </tr>\n",
              "    <tr>\n",
              "      <th>1</th>\n",
              "      <td>10.34</td>\n",
              "      <td>1.66</td>\n",
              "      <td>Male</td>\n",
              "      <td>No</td>\n",
              "      <td>Sun</td>\n",
              "      <td>Dinner</td>\n",
              "      <td>3</td>\n",
              "    </tr>\n",
              "    <tr>\n",
              "      <th>2</th>\n",
              "      <td>21.01</td>\n",
              "      <td>3.50</td>\n",
              "      <td>Male</td>\n",
              "      <td>No</td>\n",
              "      <td>Sun</td>\n",
              "      <td>Dinner</td>\n",
              "      <td>3</td>\n",
              "    </tr>\n",
              "    <tr>\n",
              "      <th>3</th>\n",
              "      <td>23.68</td>\n",
              "      <td>3.31</td>\n",
              "      <td>Male</td>\n",
              "      <td>No</td>\n",
              "      <td>Sun</td>\n",
              "      <td>Dinner</td>\n",
              "      <td>2</td>\n",
              "    </tr>\n",
              "    <tr>\n",
              "      <th>4</th>\n",
              "      <td>24.59</td>\n",
              "      <td>3.61</td>\n",
              "      <td>Female</td>\n",
              "      <td>No</td>\n",
              "      <td>Sun</td>\n",
              "      <td>Dinner</td>\n",
              "      <td>4</td>\n",
              "    </tr>\n",
              "  </tbody>\n",
              "</table>\n",
              "</div>"
            ],
            "text/plain": [
              "   total_bill   tip     sex smoker  day    time  size\n",
              "0       16.99  1.01  Female     No  Sun  Dinner     2\n",
              "1       10.34  1.66    Male     No  Sun  Dinner     3\n",
              "2       21.01  3.50    Male     No  Sun  Dinner     3\n",
              "3       23.68  3.31    Male     No  Sun  Dinner     2\n",
              "4       24.59  3.61  Female     No  Sun  Dinner     4"
            ]
          },
          "execution_count": 21,
          "metadata": {},
          "output_type": "execute_result"
        }
      ],
      "source": [
        "df.head()"
      ]
    },
    {
      "cell_type": "code",
      "execution_count": null,
      "id": "6539c3ab",
      "metadata": {
        "id": "6539c3ab"
      },
      "outputs": [],
      "source": [
        "dic_example={'first_name':'Krish','last_name':'Naik'}"
      ]
    },
    {
      "cell_type": "code",
      "execution_count": null,
      "id": "4b3f2fda",
      "metadata": {
        "id": "4b3f2fda"
      },
      "outputs": [],
      "source": [
        "pickle.dump(dic_example,open('test.pkl','wb'))"
      ]
    },
    {
      "cell_type": "code",
      "execution_count": null,
      "id": "8d7d44b5",
      "metadata": {
        "id": "8d7d44b5",
        "outputId": "f3230a5c-4365-4648-b176-418e71630e5f"
      },
      "outputs": [
        {
          "data": {
            "text/plain": [
              "{'first_name': 'Krish', 'last_name': 'Naik'}"
            ]
          },
          "execution_count": 24,
          "metadata": {},
          "output_type": "execute_result"
        }
      ],
      "source": [
        "pickle.load(open('test.pkl','rb'))"
      ]
    },
    {
      "cell_type": "code",
      "execution_count": null,
      "id": "531f660c",
      "metadata": {
        "id": "531f660c"
      },
      "outputs": [],
      "source": []
    },
    {
      "cell_type": "code",
      "execution_count": null,
      "id": "1d7f1dba",
      "metadata": {
        "id": "1d7f1dba"
      },
      "outputs": [],
      "source": []
    },
    {
      "cell_type": "code",
      "execution_count": null,
      "id": "d7d59a34",
      "metadata": {
        "id": "d7d59a34"
      },
      "outputs": [],
      "source": []
    },
    {
      "cell_type": "code",
      "execution_count": null,
      "id": "f0773c42",
      "metadata": {
        "id": "f0773c42"
      },
      "outputs": [],
      "source": []
    },
    {
      "cell_type": "code",
      "execution_count": null,
      "id": "4b0b8a76",
      "metadata": {
        "id": "4b0b8a76"
      },
      "outputs": [],
      "source": []
    }
  ],
  "metadata": {
    "kernelspec": {
      "display_name": "Python 3 (ipykernel)",
      "language": "python",
      "name": "python3"
    },
    "language_info": {
      "codemirror_mode": {
        "name": "ipython",
        "version": 3
      },
      "file_extension": ".py",
      "mimetype": "text/x-python",
      "name": "python",
      "nbconvert_exporter": "python",
      "pygments_lexer": "ipython3",
      "version": "3.9.7"
    },
    "colab": {
      "provenance": [],
      "include_colab_link": true
    }
  },
  "nbformat": 4,
  "nbformat_minor": 5
}