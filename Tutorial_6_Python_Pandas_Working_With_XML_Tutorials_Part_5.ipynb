{
  "cells": [
    {
      "cell_type": "markdown",
      "metadata": {
        "id": "view-in-github",
        "colab_type": "text"
      },
      "source": [
        "<a href=\"https://colab.research.google.com/github/Alok594/alok/blob/main/Tutorial_6_Python_Pandas_Working_With_XML_Tutorials_Part_5.ipynb\" target=\"_parent\"><img src=\"https://colab.research.google.com/assets/colab-badge.svg\" alt=\"Open In Colab\"/></a>"
      ]
    },
    {
      "cell_type": "markdown",
      "id": "65af7b3a",
      "metadata": {
        "id": "65af7b3a"
      },
      "source": [
        "## Tutorial 13- Python Pandas Working With XML Tutorials- Part 5"
      ]
    },
    {
      "cell_type": "markdown",
      "id": "9f409537",
      "metadata": {
        "id": "9f409537"
      },
      "source": [
        "1. Read XML and get Dataframe\n",
        "2. Convert Dataframe to XML"
      ]
    },
    {
      "cell_type": "markdown",
      "id": "5c5ff053",
      "metadata": {
        "id": "5c5ff053"
      },
      "source": [
        "What is XML?\n",
        "1. XML stands for eXtensible Markup Language\n",
        "2. XML is a markup language much like HTML\n",
        "3. XML was designed to store and transport data\n",
        "4. XML was designed to be self-descriptive\n",
        "5. XML is a W3C Recommendation"
      ]
    },
    {
      "cell_type": "code",
      "execution_count": null,
      "id": "f0dc4719",
      "metadata": {
        "id": "f0dc4719",
        "outputId": "df931fb6-d773-4660-e3e9-716b69d7c210"
      },
      "outputs": [
        {
          "data": {
            "text/html": [
              "<div>\n",
              "<style scoped>\n",
              "    .dataframe tbody tr th:only-of-type {\n",
              "        vertical-align: middle;\n",
              "    }\n",
              "\n",
              "    .dataframe tbody tr th {\n",
              "        vertical-align: top;\n",
              "    }\n",
              "\n",
              "    .dataframe thead th {\n",
              "        text-align: right;\n",
              "    }\n",
              "</style>\n",
              "<table border=\"1\" class=\"dataframe\">\n",
              "  <thead>\n",
              "    <tr style=\"text-align: right;\">\n",
              "      <th></th>\n",
              "      <th>shape</th>\n",
              "      <th>degrees</th>\n",
              "      <th>sides</th>\n",
              "    </tr>\n",
              "  </thead>\n",
              "  <tbody>\n",
              "    <tr>\n",
              "      <th>0</th>\n",
              "      <td>square</td>\n",
              "      <td>360</td>\n",
              "      <td>4.0</td>\n",
              "    </tr>\n",
              "    <tr>\n",
              "      <th>1</th>\n",
              "      <td>circle</td>\n",
              "      <td>360</td>\n",
              "      <td>NaN</td>\n",
              "    </tr>\n",
              "    <tr>\n",
              "      <th>2</th>\n",
              "      <td>triangle</td>\n",
              "      <td>180</td>\n",
              "      <td>3.0</td>\n",
              "    </tr>\n",
              "  </tbody>\n",
              "</table>\n",
              "</div>"
            ],
            "text/plain": [
              "      shape  degrees  sides\n",
              "0    square      360    4.0\n",
              "1    circle      360    NaN\n",
              "2  triangle      180    3.0"
            ]
          },
          "execution_count": 34,
          "metadata": {},
          "output_type": "execute_result"
        }
      ],
      "source": [
        "# read_xml is used to read xml file\n",
        "# is data is not present then it will consider nan\n",
        "import pandas as pd\n",
        "\n",
        "pd.read_xml('test.xml')"
      ]
    },
    {
      "cell_type": "code",
      "execution_count": null,
      "id": "f1aa09ee",
      "metadata": {
        "id": "f1aa09ee"
      },
      "outputs": [],
      "source": [
        "# <p>This is a paragraph.</p> <-basic stucture of xml\n",
        "xml = '''<?xml version='1.0' encoding='utf-8'?>\n",
        "<data xmlns=\"http://example.com\">\n",
        " <row>\n",
        "   <shape>square</shape>\n",
        "   <degrees>360</degrees>\n",
        "   <sides>4.0</sides>\n",
        "   <firstname>Krish</firstname>\n",
        " </row>\n",
        " <row>\n",
        "   <shape>circle</shape>\n",
        "   <degrees>360</degrees>\n",
        "   <sides/>\n",
        "   <firstname/>\n",
        " </row>\n",
        " <row>\n",
        "   <shape>triangle</shape>\n",
        "   <degrees>180</degrees>\n",
        "   <sides>3.0</sides>\n",
        "   <firstname/>\n",
        " </row>\n",
        "</data>'''"
      ]
    },
    {
      "cell_type": "code",
      "execution_count": null,
      "id": "01cf1e58",
      "metadata": {
        "id": "01cf1e58",
        "outputId": "61540b27-48f1-44d0-a9ec-cd42a37083b0"
      },
      "outputs": [
        {
          "data": {
            "text/html": [
              "<div>\n",
              "<style scoped>\n",
              "    .dataframe tbody tr th:only-of-type {\n",
              "        vertical-align: middle;\n",
              "    }\n",
              "\n",
              "    .dataframe tbody tr th {\n",
              "        vertical-align: top;\n",
              "    }\n",
              "\n",
              "    .dataframe thead th {\n",
              "        text-align: right;\n",
              "    }\n",
              "</style>\n",
              "<table border=\"1\" class=\"dataframe\">\n",
              "  <thead>\n",
              "    <tr style=\"text-align: right;\">\n",
              "      <th></th>\n",
              "      <th>shape</th>\n",
              "      <th>degrees</th>\n",
              "      <th>sides</th>\n",
              "      <th>firstname</th>\n",
              "    </tr>\n",
              "  </thead>\n",
              "  <tbody>\n",
              "    <tr>\n",
              "      <th>0</th>\n",
              "      <td>square</td>\n",
              "      <td>360</td>\n",
              "      <td>4.0</td>\n",
              "      <td>Krish</td>\n",
              "    </tr>\n",
              "    <tr>\n",
              "      <th>1</th>\n",
              "      <td>circle</td>\n",
              "      <td>360</td>\n",
              "      <td>NaN</td>\n",
              "      <td>None</td>\n",
              "    </tr>\n",
              "    <tr>\n",
              "      <th>2</th>\n",
              "      <td>triangle</td>\n",
              "      <td>180</td>\n",
              "      <td>3.0</td>\n",
              "      <td>None</td>\n",
              "    </tr>\n",
              "  </tbody>\n",
              "</table>\n",
              "</div>"
            ],
            "text/plain": [
              "      shape  degrees  sides firstname\n",
              "0    square      360    4.0     Krish\n",
              "1    circle      360    NaN      None\n",
              "2  triangle      180    3.0      None"
            ]
          },
          "execution_count": 38,
          "metadata": {},
          "output_type": "execute_result"
        }
      ],
      "source": [
        "pd.read_xml(xml)"
      ]
    },
    {
      "cell_type": "code",
      "execution_count": null,
      "id": "c08a4a3a",
      "metadata": {
        "id": "c08a4a3a"
      },
      "outputs": [],
      "source": [
        "xml = '''<?xml version='1.0' encoding='utf-8'?>\n",
        "<data>\n",
        "  <row shape=\"square\" degrees=\"360\" sides=\"4.0\" firstname=\"Krish\"/>\n",
        "  <row shape=\"circle\" degrees=\"360\"/>\n",
        "  <row shape=\"triangle\" degrees=\"180\" sides=\"3.0\" lastname=\"Naik\"/>\n",
        "</data>'''"
      ]
    },
    {
      "cell_type": "code",
      "execution_count": null,
      "id": "87aaf890",
      "metadata": {
        "id": "87aaf890",
        "outputId": "bb233548-cca7-4eb5-e56c-2f7c196f0f5f"
      },
      "outputs": [
        {
          "data": {
            "text/html": [
              "<div>\n",
              "<style scoped>\n",
              "    .dataframe tbody tr th:only-of-type {\n",
              "        vertical-align: middle;\n",
              "    }\n",
              "\n",
              "    .dataframe tbody tr th {\n",
              "        vertical-align: top;\n",
              "    }\n",
              "\n",
              "    .dataframe thead th {\n",
              "        text-align: right;\n",
              "    }\n",
              "</style>\n",
              "<table border=\"1\" class=\"dataframe\">\n",
              "  <thead>\n",
              "    <tr style=\"text-align: right;\">\n",
              "      <th></th>\n",
              "      <th>shape</th>\n",
              "      <th>degrees</th>\n",
              "      <th>sides</th>\n",
              "      <th>firstname</th>\n",
              "      <th>lastname</th>\n",
              "    </tr>\n",
              "  </thead>\n",
              "  <tbody>\n",
              "    <tr>\n",
              "      <th>0</th>\n",
              "      <td>square</td>\n",
              "      <td>360</td>\n",
              "      <td>4.0</td>\n",
              "      <td>Krish</td>\n",
              "      <td>None</td>\n",
              "    </tr>\n",
              "    <tr>\n",
              "      <th>1</th>\n",
              "      <td>circle</td>\n",
              "      <td>360</td>\n",
              "      <td>NaN</td>\n",
              "      <td>None</td>\n",
              "      <td>None</td>\n",
              "    </tr>\n",
              "    <tr>\n",
              "      <th>2</th>\n",
              "      <td>triangle</td>\n",
              "      <td>180</td>\n",
              "      <td>3.0</td>\n",
              "      <td>None</td>\n",
              "      <td>Naik</td>\n",
              "    </tr>\n",
              "  </tbody>\n",
              "</table>\n",
              "</div>"
            ],
            "text/plain": [
              "      shape  degrees  sides firstname lastname\n",
              "0    square      360    4.0     Krish     None\n",
              "1    circle      360    NaN      None     None\n",
              "2  triangle      180    3.0      None     Naik"
            ]
          },
          "execution_count": 45,
          "metadata": {},
          "output_type": "execute_result"
        }
      ],
      "source": [
        "pd.read_xml(xml,xpath=\".//row\")"
      ]
    },
    {
      "cell_type": "code",
      "execution_count": null,
      "id": "7418e5c4",
      "metadata": {
        "id": "7418e5c4"
      },
      "outputs": [],
      "source": [
        "xml = '''<?xml version='1.0' encoding='utf-8'?>\n",
        "<doc:data xmlns:doc=\"https://example.com\">\n",
        "  <doc:row>\n",
        "    <doc:shape>square</doc:shape>\n",
        "    <doc:degrees>360</doc:degrees>\n",
        "    <doc:sides>4.0</doc:sides>\n",
        "  </doc:row>\n",
        "  <doc:row>\n",
        "    <doc:shape>circle</doc:shape>\n",
        "    <doc:degrees>360</doc:degrees>\n",
        "    <doc:sides/>\n",
        "  </doc:row>\n",
        "  <doc:row>\n",
        "    <doc:shape>triangle</doc:shape>\n",
        "    <doc:degrees>180</doc:degrees>\n",
        "    <doc:sides>3.0</doc:sides>\n",
        "  </doc:row>\n",
        "</doc:data>'''"
      ]
    },
    {
      "cell_type": "code",
      "execution_count": null,
      "id": "bed850cb",
      "metadata": {
        "id": "bed850cb"
      },
      "outputs": [],
      "source": [
        "# doc:row -> identify total row\n",
        "# and if we have defined namespace also if xml file mein xmlns define hai to\n",
        "df=pd.read_xml(xml,xpath=\".//doc:row\",namespaces={\"doc\": \"https://example.com\"})\n"
      ]
    },
    {
      "cell_type": "code",
      "execution_count": null,
      "id": "e159c917",
      "metadata": {
        "id": "e159c917"
      },
      "outputs": [],
      "source": [
        "#  convert dataframe into xml file\n",
        "df.to_xml('test1.xml')"
      ]
    },
    {
      "cell_type": "code",
      "execution_count": null,
      "id": "64656726",
      "metadata": {
        "id": "64656726"
      },
      "outputs": [],
      "source": []
    }
  ],
  "metadata": {
    "kernelspec": {
      "display_name": "Python 3 (ipykernel)",
      "language": "python",
      "name": "python3"
    },
    "language_info": {
      "codemirror_mode": {
        "name": "ipython",
        "version": 3
      },
      "file_extension": ".py",
      "mimetype": "text/x-python",
      "name": "python",
      "nbconvert_exporter": "python",
      "pygments_lexer": "ipython3",
      "version": "3.9.7"
    },
    "colab": {
      "provenance": [],
      "include_colab_link": true
    }
  },
  "nbformat": 4,
  "nbformat_minor": 5
}