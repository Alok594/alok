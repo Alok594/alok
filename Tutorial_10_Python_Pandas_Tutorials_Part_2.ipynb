{
  "cells": [
    {
      "cell_type": "markdown",
      "metadata": {
        "id": "view-in-github",
        "colab_type": "text"
      },
      "source": [
        "<a href=\"https://colab.research.google.com/github/Alok594/alok/blob/main/Tutorial_10_Python_Pandas_Tutorials_Part_2.ipynb\" target=\"_parent\"><img src=\"https://colab.research.google.com/assets/colab-badge.svg\" alt=\"Open In Colab\"/></a>"
      ]
    },
    {
      "cell_type": "markdown",
      "id": "495be371",
      "metadata": {
        "id": "495be371"
      },
      "source": [
        "### Tutorial 10- Python Pandas Tutorials- Part 2\n",
        "\n",
        "In Part we are going to learn about\n",
        "1. StringIO\n",
        "2. Pandas read_csv"
      ]
    },
    {
      "cell_type": "code",
      "execution_count": null,
      "id": "085ab65c",
      "metadata": {
        "id": "085ab65c"
      },
      "outputs": [],
      "source": [
        "### Reading Different Data sources with the help of pandas\n",
        "# stringio-> it convert koi bhi string data ko in memory file formate mein\n",
        "from io import StringIO"
      ]
    },
    {
      "cell_type": "code",
      "execution_count": null,
      "id": "9fc71488",
      "metadata": {
        "id": "9fc71488",
        "outputId": "3a5f3388-8c12-45c1-8624-0a688c333ffe"
      },
      "outputs": [
        {
          "data": {
            "text/html": [
              "<div>\n",
              "<style scoped>\n",
              "    .dataframe tbody tr th:only-of-type {\n",
              "        vertical-align: middle;\n",
              "    }\n",
              "\n",
              "    .dataframe tbody tr th {\n",
              "        vertical-align: top;\n",
              "    }\n",
              "\n",
              "    .dataframe thead th {\n",
              "        text-align: right;\n",
              "    }\n",
              "</style>\n",
              "<table border=\"1\" class=\"dataframe\">\n",
              "  <thead>\n",
              "    <tr style=\"text-align: right;\">\n",
              "      <th></th>\n",
              "      <th>ID</th>\n",
              "      <th>y</th>\n",
              "      <th>X0</th>\n",
              "      <th>X1</th>\n",
              "      <th>X2</th>\n",
              "      <th>X3</th>\n",
              "      <th>X4</th>\n",
              "      <th>X5</th>\n",
              "      <th>X6</th>\n",
              "      <th>X8</th>\n",
              "      <th>...</th>\n",
              "      <th>X375</th>\n",
              "      <th>X376</th>\n",
              "      <th>X377</th>\n",
              "      <th>X378</th>\n",
              "      <th>X379</th>\n",
              "      <th>X380</th>\n",
              "      <th>X382</th>\n",
              "      <th>X383</th>\n",
              "      <th>X384</th>\n",
              "      <th>X385</th>\n",
              "    </tr>\n",
              "  </thead>\n",
              "  <tbody>\n",
              "    <tr>\n",
              "      <th>0</th>\n",
              "      <td>0</td>\n",
              "      <td>130.81</td>\n",
              "      <td>k</td>\n",
              "      <td>v</td>\n",
              "      <td>at</td>\n",
              "      <td>a</td>\n",
              "      <td>d</td>\n",
              "      <td>u</td>\n",
              "      <td>j</td>\n",
              "      <td>o</td>\n",
              "      <td>...</td>\n",
              "      <td>0</td>\n",
              "      <td>0</td>\n",
              "      <td>1</td>\n",
              "      <td>0</td>\n",
              "      <td>0</td>\n",
              "      <td>0</td>\n",
              "      <td>0</td>\n",
              "      <td>0</td>\n",
              "      <td>0</td>\n",
              "      <td>0</td>\n",
              "    </tr>\n",
              "    <tr>\n",
              "      <th>1</th>\n",
              "      <td>6</td>\n",
              "      <td>88.53</td>\n",
              "      <td>k</td>\n",
              "      <td>t</td>\n",
              "      <td>av</td>\n",
              "      <td>e</td>\n",
              "      <td>d</td>\n",
              "      <td>y</td>\n",
              "      <td>l</td>\n",
              "      <td>o</td>\n",
              "      <td>...</td>\n",
              "      <td>1</td>\n",
              "      <td>0</td>\n",
              "      <td>0</td>\n",
              "      <td>0</td>\n",
              "      <td>0</td>\n",
              "      <td>0</td>\n",
              "      <td>0</td>\n",
              "      <td>0</td>\n",
              "      <td>0</td>\n",
              "      <td>0</td>\n",
              "    </tr>\n",
              "    <tr>\n",
              "      <th>2</th>\n",
              "      <td>7</td>\n",
              "      <td>76.26</td>\n",
              "      <td>az</td>\n",
              "      <td>w</td>\n",
              "      <td>n</td>\n",
              "      <td>c</td>\n",
              "      <td>d</td>\n",
              "      <td>x</td>\n",
              "      <td>j</td>\n",
              "      <td>x</td>\n",
              "      <td>...</td>\n",
              "      <td>0</td>\n",
              "      <td>0</td>\n",
              "      <td>0</td>\n",
              "      <td>0</td>\n",
              "      <td>0</td>\n",
              "      <td>0</td>\n",
              "      <td>1</td>\n",
              "      <td>0</td>\n",
              "      <td>0</td>\n",
              "      <td>0</td>\n",
              "    </tr>\n",
              "    <tr>\n",
              "      <th>3</th>\n",
              "      <td>9</td>\n",
              "      <td>80.62</td>\n",
              "      <td>az</td>\n",
              "      <td>t</td>\n",
              "      <td>n</td>\n",
              "      <td>f</td>\n",
              "      <td>d</td>\n",
              "      <td>x</td>\n",
              "      <td>l</td>\n",
              "      <td>e</td>\n",
              "      <td>...</td>\n",
              "      <td>0</td>\n",
              "      <td>0</td>\n",
              "      <td>0</td>\n",
              "      <td>0</td>\n",
              "      <td>0</td>\n",
              "      <td>0</td>\n",
              "      <td>0</td>\n",
              "      <td>0</td>\n",
              "      <td>0</td>\n",
              "      <td>0</td>\n",
              "    </tr>\n",
              "    <tr>\n",
              "      <th>4</th>\n",
              "      <td>13</td>\n",
              "      <td>78.02</td>\n",
              "      <td>az</td>\n",
              "      <td>v</td>\n",
              "      <td>n</td>\n",
              "      <td>f</td>\n",
              "      <td>d</td>\n",
              "      <td>h</td>\n",
              "      <td>d</td>\n",
              "      <td>n</td>\n",
              "      <td>...</td>\n",
              "      <td>0</td>\n",
              "      <td>0</td>\n",
              "      <td>0</td>\n",
              "      <td>0</td>\n",
              "      <td>0</td>\n",
              "      <td>0</td>\n",
              "      <td>0</td>\n",
              "      <td>0</td>\n",
              "      <td>0</td>\n",
              "      <td>0</td>\n",
              "    </tr>\n",
              "  </tbody>\n",
              "</table>\n",
              "<p>5 rows × 378 columns</p>\n",
              "</div>"
            ],
            "text/plain": [
              "   ID       y  X0 X1  X2 X3 X4 X5 X6 X8  ...  X375  X376  X377  X378  X379  \\\n",
              "0   0  130.81   k  v  at  a  d  u  j  o  ...     0     0     1     0     0   \n",
              "1   6   88.53   k  t  av  e  d  y  l  o  ...     1     0     0     0     0   \n",
              "2   7   76.26  az  w   n  c  d  x  j  x  ...     0     0     0     0     0   \n",
              "3   9   80.62  az  t   n  f  d  x  l  e  ...     0     0     0     0     0   \n",
              "4  13   78.02  az  v   n  f  d  h  d  n  ...     0     0     0     0     0   \n",
              "\n",
              "   X380  X382  X383  X384  X385  \n",
              "0     0     0     0     0     0  \n",
              "1     0     0     0     0     0  \n",
              "2     0     1     0     0     0  \n",
              "3     0     0     0     0     0  \n",
              "4     0     0     0     0     0  \n",
              "\n",
              "[5 rows x 378 columns]"
            ]
          },
          "execution_count": 20,
          "metadata": {},
          "output_type": "execute_result"
        }
      ],
      "source": [
        "# pd.read_csv is a function in the pandas library used to read and load data from a CSV (Comma-Separated Values) file into a pandas DataFrame.\n",
        "import pandas as pd\n",
        "df=pd.read_csv('mercedesbenz.csv')\n",
        "df.head()"
      ]
    },
    {
      "cell_type": "code",
      "execution_count": null,
      "id": "1b63ae7c",
      "metadata": {
        "id": "1b63ae7c"
      },
      "outputs": [],
      "source": []
    },
    {
      "cell_type": "code",
      "execution_count": null,
      "id": "d91def8a",
      "metadata": {
        "id": "d91def8a",
        "outputId": "3fd0c58d-39a5-4c5d-dd8e-2c3ee033c22c"
      },
      "outputs": [
        {
          "data": {
            "text/plain": [
              "pandas.core.frame.DataFrame"
            ]
          },
          "execution_count": 14,
          "metadata": {},
          "output_type": "execute_result"
        }
      ],
      "source": [
        "type(df)"
      ]
    },
    {
      "cell_type": "code",
      "execution_count": null,
      "id": "4168ad21",
      "metadata": {
        "id": "4168ad21"
      },
      "outputs": [],
      "source": [
        "# /n ->it is ued to go in new line\n",
        "# col1,col2,col3 are column and x,y,1 are respectively value for first row\n",
        "data=('col1,col2,col3\\n'\n",
        "     'x,y,1\\n'\n",
        "     'a,b,2\\n'\n",
        "     'c,d,3')"
      ]
    },
    {
      "cell_type": "code",
      "execution_count": null,
      "id": "98e70f96",
      "metadata": {
        "id": "98e70f96",
        "outputId": "44d04f74-3faf-4d41-e659-50352b50c09b"
      },
      "outputs": [
        {
          "data": {
            "text/plain": [
              "str"
            ]
          },
          "execution_count": 16,
          "metadata": {},
          "output_type": "execute_result"
        }
      ],
      "source": [
        "type(data)"
      ]
    },
    {
      "cell_type": "code",
      "execution_count": null,
      "id": "f311f255",
      "metadata": {
        "id": "f311f255",
        "outputId": "04f7d248-ac2a-4dc3-a18e-5b7ffc14c7a2"
      },
      "outputs": [
        {
          "data": {
            "text/plain": [
              "<_io.StringIO at 0x1a1eb0b5e50>"
            ]
          },
          "execution_count": 17,
          "metadata": {},
          "output_type": "execute_result"
        }
      ],
      "source": [
        "##conversion of one file formate to in memeory file format\n",
        "StringIO(data)"
      ]
    },
    {
      "cell_type": "code",
      "execution_count": null,
      "id": "2282cb7c",
      "metadata": {
        "id": "2282cb7c",
        "outputId": "eebcc0ce-bb6f-4134-f74d-123387ada6fa"
      },
      "outputs": [
        {
          "data": {
            "text/html": [
              "<div>\n",
              "<style scoped>\n",
              "    .dataframe tbody tr th:only-of-type {\n",
              "        vertical-align: middle;\n",
              "    }\n",
              "\n",
              "    .dataframe tbody tr th {\n",
              "        vertical-align: top;\n",
              "    }\n",
              "\n",
              "    .dataframe thead th {\n",
              "        text-align: right;\n",
              "    }\n",
              "</style>\n",
              "<table border=\"1\" class=\"dataframe\">\n",
              "  <thead>\n",
              "    <tr style=\"text-align: right;\">\n",
              "      <th></th>\n",
              "      <th>col1</th>\n",
              "      <th>col2</th>\n",
              "      <th>col3</th>\n",
              "    </tr>\n",
              "  </thead>\n",
              "  <tbody>\n",
              "    <tr>\n",
              "      <th>0</th>\n",
              "      <td>x</td>\n",
              "      <td>y</td>\n",
              "      <td>1</td>\n",
              "    </tr>\n",
              "    <tr>\n",
              "      <th>1</th>\n",
              "      <td>a</td>\n",
              "      <td>b</td>\n",
              "      <td>2</td>\n",
              "    </tr>\n",
              "    <tr>\n",
              "      <th>2</th>\n",
              "      <td>c</td>\n",
              "      <td>d</td>\n",
              "      <td>3</td>\n",
              "    </tr>\n",
              "  </tbody>\n",
              "</table>\n",
              "</div>"
            ],
            "text/plain": [
              "  col1 col2  col3\n",
              "0    x    y     1\n",
              "1    a    b     2\n",
              "2    c    d     3"
            ]
          },
          "execution_count": 18,
          "metadata": {},
          "output_type": "execute_result"
        }
      ],
      "source": [
        "pd.read_csv(StringIO(data))"
      ]
    },
    {
      "cell_type": "code",
      "execution_count": null,
      "id": "80ea6cce",
      "metadata": {
        "id": "80ea6cce",
        "outputId": "2bb7c37e-d77f-4d7b-e0a8-90ed53c0a6f5"
      },
      "outputs": [
        {
          "data": {
            "text/html": [
              "<div>\n",
              "<style scoped>\n",
              "    .dataframe tbody tr th:only-of-type {\n",
              "        vertical-align: middle;\n",
              "    }\n",
              "\n",
              "    .dataframe tbody tr th {\n",
              "        vertical-align: top;\n",
              "    }\n",
              "\n",
              "    .dataframe thead th {\n",
              "        text-align: right;\n",
              "    }\n",
              "</style>\n",
              "<table border=\"1\" class=\"dataframe\">\n",
              "  <thead>\n",
              "    <tr style=\"text-align: right;\">\n",
              "      <th></th>\n",
              "      <th>col1</th>\n",
              "      <th>col2</th>\n",
              "    </tr>\n",
              "  </thead>\n",
              "  <tbody>\n",
              "    <tr>\n",
              "      <th>0</th>\n",
              "      <td>x</td>\n",
              "      <td>y</td>\n",
              "    </tr>\n",
              "    <tr>\n",
              "      <th>1</th>\n",
              "      <td>a</td>\n",
              "      <td>b</td>\n",
              "    </tr>\n",
              "    <tr>\n",
              "      <th>2</th>\n",
              "      <td>c</td>\n",
              "      <td>d</td>\n",
              "    </tr>\n",
              "  </tbody>\n",
              "</table>\n",
              "</div>"
            ],
            "text/plain": [
              "  col1 col2\n",
              "0    x    y\n",
              "1    a    b\n",
              "2    c    d"
            ]
          },
          "execution_count": 19,
          "metadata": {},
          "output_type": "execute_result"
        }
      ],
      "source": [
        "# usecols=[] -> it is use to extract the some particular column from  big memory file  formate\n",
        "pd.read_csv(StringIO(data),usecols=['col1','col2'])"
      ]
    },
    {
      "cell_type": "code",
      "execution_count": null,
      "id": "498a0c64",
      "metadata": {
        "id": "498a0c64",
        "outputId": "7358f1c1-d7d7-4d85-cdf7-74378423218f"
      },
      "outputs": [
        {
          "data": {
            "text/html": [
              "<div>\n",
              "<style scoped>\n",
              "    .dataframe tbody tr th:only-of-type {\n",
              "        vertical-align: middle;\n",
              "    }\n",
              "\n",
              "    .dataframe tbody tr th {\n",
              "        vertical-align: top;\n",
              "    }\n",
              "\n",
              "    .dataframe thead th {\n",
              "        text-align: right;\n",
              "    }\n",
              "</style>\n",
              "<table border=\"1\" class=\"dataframe\">\n",
              "  <thead>\n",
              "    <tr style=\"text-align: right;\">\n",
              "      <th></th>\n",
              "      <th>X0</th>\n",
              "      <th>X1</th>\n",
              "      <th>X2</th>\n",
              "      <th>X3</th>\n",
              "      <th>X4</th>\n",
              "      <th>X5</th>\n",
              "    </tr>\n",
              "  </thead>\n",
              "  <tbody>\n",
              "    <tr>\n",
              "      <th>0</th>\n",
              "      <td>k</td>\n",
              "      <td>v</td>\n",
              "      <td>at</td>\n",
              "      <td>a</td>\n",
              "      <td>d</td>\n",
              "      <td>u</td>\n",
              "    </tr>\n",
              "    <tr>\n",
              "      <th>1</th>\n",
              "      <td>k</td>\n",
              "      <td>t</td>\n",
              "      <td>av</td>\n",
              "      <td>e</td>\n",
              "      <td>d</td>\n",
              "      <td>y</td>\n",
              "    </tr>\n",
              "    <tr>\n",
              "      <th>2</th>\n",
              "      <td>az</td>\n",
              "      <td>w</td>\n",
              "      <td>n</td>\n",
              "      <td>c</td>\n",
              "      <td>d</td>\n",
              "      <td>x</td>\n",
              "    </tr>\n",
              "    <tr>\n",
              "      <th>3</th>\n",
              "      <td>az</td>\n",
              "      <td>t</td>\n",
              "      <td>n</td>\n",
              "      <td>f</td>\n",
              "      <td>d</td>\n",
              "      <td>x</td>\n",
              "    </tr>\n",
              "    <tr>\n",
              "      <th>4</th>\n",
              "      <td>az</td>\n",
              "      <td>v</td>\n",
              "      <td>n</td>\n",
              "      <td>f</td>\n",
              "      <td>d</td>\n",
              "      <td>h</td>\n",
              "    </tr>\n",
              "  </tbody>\n",
              "</table>\n",
              "</div>"
            ],
            "text/plain": [
              "   X0 X1  X2 X3 X4 X5\n",
              "0   k  v  at  a  d  u\n",
              "1   k  t  av  e  d  y\n",
              "2  az  w   n  c  d  x\n",
              "3  az  t   n  f  d  x\n",
              "4  az  v   n  f  d  h"
            ]
          },
          "execution_count": 21,
          "metadata": {},
          "output_type": "execute_result"
        }
      ],
      "source": [
        "import pandas as pd\n",
        "df=pd.read_csv('mercedesbenz.csv',usecols=['X0','X1','X2','X3','X4','X5'])\n",
        "df.head()"
      ]
    },
    {
      "cell_type": "code",
      "execution_count": null,
      "id": "b09a7e08",
      "metadata": {
        "id": "b09a7e08"
      },
      "outputs": [],
      "source": [
        "#to_csv('file name jis name se save krna hai ') -> this function is used to convert memory file formate to csv file\n",
        "# index= false ->we used this function when we no need of indexing in csv file becoz in csv file there is always indexing is present by default\n",
        "df.to_csv('test.csv',index=False)"
      ]
    },
    {
      "cell_type": "code",
      "execution_count": null,
      "id": "c46f62b5",
      "metadata": {
        "id": "c46f62b5"
      },
      "outputs": [],
      "source": [
        "##datatypes in csv\n",
        "data = ('a,b,c,d\\n'\n",
        "            '1,2,3,4\\n'\n",
        "            '5,6,7,8\\n'\n",
        "            '9,10,11')"
      ]
    },
    {
      "cell_type": "code",
      "execution_count": null,
      "id": "9d1c4355",
      "metadata": {
        "id": "9d1c4355"
      },
      "outputs": [],
      "source": [
        "df=pd.read_csv(StringIO(data))"
      ]
    },
    {
      "cell_type": "code",
      "execution_count": null,
      "id": "e8772a92",
      "metadata": {
        "id": "e8772a92",
        "outputId": "2c770aae-cfa8-41dc-e3e6-b31c91c4c670"
      },
      "outputs": [
        {
          "name": "stdout",
          "output_type": "stream",
          "text": [
            "<class 'pandas.core.frame.DataFrame'>\n",
            "RangeIndex: 3 entries, 0 to 2\n",
            "Data columns (total 4 columns):\n",
            " #   Column  Non-Null Count  Dtype  \n",
            "---  ------  --------------  -----  \n",
            " 0   a       3 non-null      int64  \n",
            " 1   b       3 non-null      int64  \n",
            " 2   c       3 non-null      int64  \n",
            " 3   d       2 non-null      float64\n",
            "dtypes: float64(1), int64(3)\n",
            "memory usage: 224.0 bytes\n"
          ]
        }
      ],
      "source": [
        "# give information about  df nam ke table\n",
        "df.info()"
      ]
    },
    {
      "cell_type": "code",
      "execution_count": null,
      "id": "a7a7f4bf",
      "metadata": {
        "id": "a7a7f4bf"
      },
      "outputs": [],
      "source": [
        "# using dtype we can change the data type like ki data kis type ka hai\n",
        "df=pd.read_csv(StringIO(data),dtype='object')"
      ]
    },
    {
      "cell_type": "code",
      "execution_count": null,
      "id": "9d046c34",
      "metadata": {
        "id": "9d046c34",
        "outputId": "23f8f31a-9ee8-4683-9338-ef19ef596f3b"
      },
      "outputs": [
        {
          "name": "stdout",
          "output_type": "stream",
          "text": [
            "<class 'pandas.core.frame.DataFrame'>\n",
            "RangeIndex: 3 entries, 0 to 2\n",
            "Data columns (total 4 columns):\n",
            " #   Column  Non-Null Count  Dtype \n",
            "---  ------  --------------  ----- \n",
            " 0   a       3 non-null      object\n",
            " 1   b       3 non-null      object\n",
            " 2   c       3 non-null      object\n",
            " 3   d       2 non-null      object\n",
            "dtypes: object(4)\n",
            "memory usage: 224.0+ bytes\n"
          ]
        }
      ],
      "source": [
        "df.info()"
      ]
    },
    {
      "cell_type": "code",
      "execution_count": null,
      "id": "7a03db92",
      "metadata": {
        "id": "7a03db92",
        "outputId": "d690e9cd-8e8e-4dc6-8876-f28647e2a153"
      },
      "outputs": [
        {
          "data": {
            "text/html": [
              "<div>\n",
              "<style scoped>\n",
              "    .dataframe tbody tr th:only-of-type {\n",
              "        vertical-align: middle;\n",
              "    }\n",
              "\n",
              "    .dataframe tbody tr th {\n",
              "        vertical-align: top;\n",
              "    }\n",
              "\n",
              "    .dataframe thead th {\n",
              "        text-align: right;\n",
              "    }\n",
              "</style>\n",
              "<table border=\"1\" class=\"dataframe\">\n",
              "  <thead>\n",
              "    <tr style=\"text-align: right;\">\n",
              "      <th></th>\n",
              "      <th>a</th>\n",
              "      <th>b</th>\n",
              "      <th>c</th>\n",
              "      <th>d</th>\n",
              "    </tr>\n",
              "  </thead>\n",
              "  <tbody>\n",
              "    <tr>\n",
              "      <th>0</th>\n",
              "      <td>1</td>\n",
              "      <td>2</td>\n",
              "      <td>3</td>\n",
              "      <td>4.0</td>\n",
              "    </tr>\n",
              "    <tr>\n",
              "      <th>1</th>\n",
              "      <td>5</td>\n",
              "      <td>6</td>\n",
              "      <td>7</td>\n",
              "      <td>8.0</td>\n",
              "    </tr>\n",
              "    <tr>\n",
              "      <th>2</th>\n",
              "      <td>9</td>\n",
              "      <td>10</td>\n",
              "      <td>11</td>\n",
              "      <td>NaN</td>\n",
              "    </tr>\n",
              "  </tbody>\n",
              "</table>\n",
              "</div>"
            ],
            "text/plain": [
              "   a   b   c    d\n",
              "0  1   2   3  4.0\n",
              "1  5   6   7  8.0\n",
              "2  9  10  11  NaN"
            ]
          },
          "execution_count": 32,
          "metadata": {},
          "output_type": "execute_result"
        }
      ],
      "source": [
        "df.head()"
      ]
    },
    {
      "cell_type": "code",
      "execution_count": null,
      "id": "07f10ae9",
      "metadata": {
        "id": "07f10ae9",
        "outputId": "cc59d7da-c841-4de9-f46e-81385e004615"
      },
      "outputs": [
        {
          "data": {
            "text/plain": [
              "a    0\n",
              "b    0\n",
              "c    0\n",
              "d    1\n",
              "dtype: int64"
            ]
          },
          "execution_count": 33,
          "metadata": {},
          "output_type": "execute_result"
        }
      ],
      "source": [
        "\n",
        "df.isnull().sum()"
      ]
    },
    {
      "cell_type": "code",
      "execution_count": null,
      "id": "acadfb59",
      "metadata": {
        "id": "acadfb59",
        "outputId": "a57a8d47-f4eb-4e8b-e026-30cdd0885396"
      },
      "outputs": [
        {
          "data": {
            "text/plain": [
              "1"
            ]
          },
          "execution_count": 35,
          "metadata": {},
          "output_type": "execute_result"
        }
      ],
      "source": [
        "df['a'][0]"
      ]
    },
    {
      "cell_type": "code",
      "execution_count": null,
      "id": "f4cd6262",
      "metadata": {
        "id": "f4cd6262"
      },
      "outputs": [],
      "source": [
        "##datatypes in csv\n",
        "data = ('a,b,c,d\\n'\n",
        "            '1,2,3,4\\n'\n",
        "            '5,6,7,8\\n'\n",
        "            '9,10,11')"
      ]
    },
    {
      "cell_type": "code",
      "execution_count": null,
      "id": "05aec552",
      "metadata": {
        "id": "05aec552"
      },
      "outputs": [],
      "source": [
        "# using dtype we can change nae of every column\n",
        "df=pd.read_csv(StringIO(data),dtype={'a':int,'b':float,'c':int})"
      ]
    },
    {
      "cell_type": "code",
      "execution_count": null,
      "id": "154d5990",
      "metadata": {
        "id": "154d5990",
        "outputId": "42633bcc-63a8-46b4-d028-9202059b0f6b"
      },
      "outputs": [
        {
          "data": {
            "text/html": [
              "<div>\n",
              "<style scoped>\n",
              "    .dataframe tbody tr th:only-of-type {\n",
              "        vertical-align: middle;\n",
              "    }\n",
              "\n",
              "    .dataframe tbody tr th {\n",
              "        vertical-align: top;\n",
              "    }\n",
              "\n",
              "    .dataframe thead th {\n",
              "        text-align: right;\n",
              "    }\n",
              "</style>\n",
              "<table border=\"1\" class=\"dataframe\">\n",
              "  <thead>\n",
              "    <tr style=\"text-align: right;\">\n",
              "      <th></th>\n",
              "      <th>a</th>\n",
              "      <th>b</th>\n",
              "      <th>c</th>\n",
              "      <th>d</th>\n",
              "    </tr>\n",
              "  </thead>\n",
              "  <tbody>\n",
              "    <tr>\n",
              "      <th>0</th>\n",
              "      <td>1</td>\n",
              "      <td>2.0</td>\n",
              "      <td>3</td>\n",
              "      <td>4.0</td>\n",
              "    </tr>\n",
              "    <tr>\n",
              "      <th>1</th>\n",
              "      <td>5</td>\n",
              "      <td>6.0</td>\n",
              "      <td>7</td>\n",
              "      <td>8.0</td>\n",
              "    </tr>\n",
              "    <tr>\n",
              "      <th>2</th>\n",
              "      <td>9</td>\n",
              "      <td>10.0</td>\n",
              "      <td>11</td>\n",
              "      <td>NaN</td>\n",
              "    </tr>\n",
              "  </tbody>\n",
              "</table>\n",
              "</div>"
            ],
            "text/plain": [
              "   a     b   c    d\n",
              "0  1   2.0   3  4.0\n",
              "1  5   6.0   7  8.0\n",
              "2  9  10.0  11  NaN"
            ]
          },
          "execution_count": 38,
          "metadata": {},
          "output_type": "execute_result"
        }
      ],
      "source": [
        "df"
      ]
    },
    {
      "cell_type": "code",
      "execution_count": null,
      "id": "afb54a36",
      "metadata": {
        "id": "afb54a36",
        "outputId": "eded552c-ea0d-48ec-e60f-24f4a6a5476a"
      },
      "outputs": [
        {
          "name": "stdout",
          "output_type": "stream",
          "text": [
            "<class 'pandas.core.frame.DataFrame'>\n",
            "RangeIndex: 3 entries, 0 to 2\n",
            "Data columns (total 4 columns):\n",
            " #   Column  Non-Null Count  Dtype  \n",
            "---  ------  --------------  -----  \n",
            " 0   a       3 non-null      int32  \n",
            " 1   b       3 non-null      float64\n",
            " 2   c       3 non-null      int32  \n",
            " 3   d       2 non-null      float64\n",
            "dtypes: float64(2), int32(2)\n",
            "memory usage: 200.0 bytes\n"
          ]
        }
      ],
      "source": [
        "df.info()"
      ]
    },
    {
      "cell_type": "code",
      "execution_count": null,
      "id": "f4012fa9",
      "metadata": {
        "id": "f4012fa9",
        "outputId": "47b25b2b-6d60-45d1-c1d6-f7c420e1f4fb"
      },
      "outputs": [
        {
          "data": {
            "text/plain": [
              "a      int32\n",
              "b    float64\n",
              "c      int32\n",
              "d    float64\n",
              "dtype: object"
            ]
          },
          "execution_count": 40,
          "metadata": {},
          "output_type": "execute_result"
        }
      ],
      "source": [
        "df.dtypes"
      ]
    },
    {
      "cell_type": "code",
      "execution_count": null,
      "id": "536aeb25",
      "metadata": {
        "id": "536aeb25"
      },
      "outputs": [],
      "source": [
        "data = ('index,a,b,c\\n'\n",
        "           '4,apple,bat,5.7\\n'\n",
        "            '8,orange,cow,10')"
      ]
    },
    {
      "cell_type": "code",
      "execution_count": null,
      "id": "6c02b4b0",
      "metadata": {
        "id": "6c02b4b0",
        "outputId": "96c97b1c-a2b8-4967-ec8e-e0deda5ed707"
      },
      "outputs": [
        {
          "data": {
            "text/html": [
              "<div>\n",
              "<style scoped>\n",
              "    .dataframe tbody tr th:only-of-type {\n",
              "        vertical-align: middle;\n",
              "    }\n",
              "\n",
              "    .dataframe tbody tr th {\n",
              "        vertical-align: top;\n",
              "    }\n",
              "\n",
              "    .dataframe thead th {\n",
              "        text-align: right;\n",
              "    }\n",
              "</style>\n",
              "<table border=\"1\" class=\"dataframe\">\n",
              "  <thead>\n",
              "    <tr style=\"text-align: right;\">\n",
              "      <th></th>\n",
              "      <th>a</th>\n",
              "      <th>b</th>\n",
              "      <th>c</th>\n",
              "    </tr>\n",
              "    <tr>\n",
              "      <th>index</th>\n",
              "      <th></th>\n",
              "      <th></th>\n",
              "      <th></th>\n",
              "    </tr>\n",
              "  </thead>\n",
              "  <tbody>\n",
              "    <tr>\n",
              "      <th>4</th>\n",
              "      <td>apple</td>\n",
              "      <td>bat</td>\n",
              "      <td>5.7</td>\n",
              "    </tr>\n",
              "    <tr>\n",
              "      <th>8</th>\n",
              "      <td>orange</td>\n",
              "      <td>cow</td>\n",
              "      <td>10.0</td>\n",
              "    </tr>\n",
              "  </tbody>\n",
              "</table>\n",
              "</div>"
            ],
            "text/plain": [
              "            a    b     c\n",
              "index                   \n",
              "4       apple  bat   5.7\n",
              "8      orange  cow  10.0"
            ]
          },
          "execution_count": 43,
          "metadata": {},
          "output_type": "execute_result"
        }
      ],
      "source": [
        "pd.read_csv(StringIO(data),index_col=0)"
      ]
    },
    {
      "cell_type": "code",
      "execution_count": null,
      "id": "bb874233",
      "metadata": {
        "id": "bb874233"
      },
      "outputs": [],
      "source": [
        "# use index cols and usecols\n",
        "data = ('a,b,c\\n'\n",
        "           '4,apple,bat\\n'\n",
        "            '8,orange,cow')"
      ]
    },
    {
      "cell_type": "code",
      "execution_count": null,
      "id": "69a9c135",
      "metadata": {
        "id": "69a9c135",
        "outputId": "f723983b-6407-4575-f994-20634596f470"
      },
      "outputs": [
        {
          "data": {
            "text/html": [
              "<div>\n",
              "<style scoped>\n",
              "    .dataframe tbody tr th:only-of-type {\n",
              "        vertical-align: middle;\n",
              "    }\n",
              "\n",
              "    .dataframe tbody tr th {\n",
              "        vertical-align: top;\n",
              "    }\n",
              "\n",
              "    .dataframe thead th {\n",
              "        text-align: right;\n",
              "    }\n",
              "</style>\n",
              "<table border=\"1\" class=\"dataframe\">\n",
              "  <thead>\n",
              "    <tr style=\"text-align: right;\">\n",
              "      <th></th>\n",
              "      <th>b</th>\n",
              "      <th>c</th>\n",
              "    </tr>\n",
              "    <tr>\n",
              "      <th>a</th>\n",
              "      <th></th>\n",
              "      <th></th>\n",
              "    </tr>\n",
              "  </thead>\n",
              "  <tbody>\n",
              "    <tr>\n",
              "      <th>4</th>\n",
              "      <td>apple</td>\n",
              "      <td>bat</td>\n",
              "    </tr>\n",
              "    <tr>\n",
              "      <th>8</th>\n",
              "      <td>orange</td>\n",
              "      <td>cow</td>\n",
              "    </tr>\n",
              "  </tbody>\n",
              "</table>\n",
              "</div>"
            ],
            "text/plain": [
              "        b    c\n",
              "a             \n",
              "4   apple  bat\n",
              "8  orange  cow"
            ]
          },
          "execution_count": 51,
          "metadata": {},
          "output_type": "execute_result"
        }
      ],
      "source": [
        "pd.read_csv(StringIO(data),usecols=['a','b','c'],index_col=0)"
      ]
    },
    {
      "cell_type": "code",
      "execution_count": null,
      "id": "44147186",
      "metadata": {
        "id": "44147186",
        "outputId": "64078d35-ffe4-4682-c6cf-b2e3f0eca6c8"
      },
      "outputs": [
        {
          "data": {
            "text/html": [
              "<div>\n",
              "<style scoped>\n",
              "    .dataframe tbody tr th:only-of-type {\n",
              "        vertical-align: middle;\n",
              "    }\n",
              "\n",
              "    .dataframe tbody tr th {\n",
              "        vertical-align: top;\n",
              "    }\n",
              "\n",
              "    .dataframe thead th {\n",
              "        text-align: right;\n",
              "    }\n",
              "</style>\n",
              "<table border=\"1\" class=\"dataframe\">\n",
              "  <thead>\n",
              "    <tr style=\"text-align: right;\">\n",
              "      <th></th>\n",
              "      <th>item_code</th>\n",
              "      <th>item_name</th>\n",
              "      <th>display_level</th>\n",
              "      <th>selectable</th>\n",
              "      <th>sort_sequence</th>\n",
              "    </tr>\n",
              "  </thead>\n",
              "  <tbody>\n",
              "    <tr>\n",
              "      <th>0</th>\n",
              "      <td>AA0</td>\n",
              "      <td>All items - old base</td>\n",
              "      <td>0</td>\n",
              "      <td>T</td>\n",
              "      <td>2</td>\n",
              "    </tr>\n",
              "    <tr>\n",
              "      <th>1</th>\n",
              "      <td>AA0R</td>\n",
              "      <td>Purchasing power of the consumer dollar - old ...</td>\n",
              "      <td>0</td>\n",
              "      <td>T</td>\n",
              "      <td>400</td>\n",
              "    </tr>\n",
              "    <tr>\n",
              "      <th>2</th>\n",
              "      <td>SA0</td>\n",
              "      <td>All items</td>\n",
              "      <td>0</td>\n",
              "      <td>T</td>\n",
              "      <td>1</td>\n",
              "    </tr>\n",
              "    <tr>\n",
              "      <th>3</th>\n",
              "      <td>SA0E</td>\n",
              "      <td>Energy</td>\n",
              "      <td>1</td>\n",
              "      <td>T</td>\n",
              "      <td>375</td>\n",
              "    </tr>\n",
              "    <tr>\n",
              "      <th>4</th>\n",
              "      <td>SA0L1</td>\n",
              "      <td>All items less food</td>\n",
              "      <td>1</td>\n",
              "      <td>T</td>\n",
              "      <td>359</td>\n",
              "    </tr>\n",
              "    <tr>\n",
              "      <th>...</th>\n",
              "      <td>...</td>\n",
              "      <td>...</td>\n",
              "      <td>...</td>\n",
              "      <td>...</td>\n",
              "      <td>...</td>\n",
              "    </tr>\n",
              "    <tr>\n",
              "      <th>395</th>\n",
              "      <td>SSEA011</td>\n",
              "      <td>College textbooks</td>\n",
              "      <td>3</td>\n",
              "      <td>T</td>\n",
              "      <td>314</td>\n",
              "    </tr>\n",
              "    <tr>\n",
              "      <th>396</th>\n",
              "      <td>SSEE041</td>\n",
              "      <td>Smartphones</td>\n",
              "      <td>4</td>\n",
              "      <td>T</td>\n",
              "      <td>335</td>\n",
              "    </tr>\n",
              "    <tr>\n",
              "      <th>397</th>\n",
              "      <td>SSFV031A</td>\n",
              "      <td>Food at elementary and secondary schools</td>\n",
              "      <td>3</td>\n",
              "      <td>T</td>\n",
              "      <td>122</td>\n",
              "    </tr>\n",
              "    <tr>\n",
              "      <th>398</th>\n",
              "      <td>SSGE013</td>\n",
              "      <td>Infants' equipment</td>\n",
              "      <td>3</td>\n",
              "      <td>T</td>\n",
              "      <td>356</td>\n",
              "    </tr>\n",
              "    <tr>\n",
              "      <th>399</th>\n",
              "      <td>SSHJ031</td>\n",
              "      <td>Infants' furniture</td>\n",
              "      <td>3</td>\n",
              "      <td>T</td>\n",
              "      <td>165</td>\n",
              "    </tr>\n",
              "  </tbody>\n",
              "</table>\n",
              "<p>400 rows × 5 columns</p>\n",
              "</div>"
            ],
            "text/plain": [
              "    item_code                                          item_name  \\\n",
              "0         AA0                               All items - old base   \n",
              "1        AA0R  Purchasing power of the consumer dollar - old ...   \n",
              "2         SA0                                          All items   \n",
              "3        SA0E                                             Energy   \n",
              "4       SA0L1                                All items less food   \n",
              "..        ...                                                ...   \n",
              "395   SSEA011                                  College textbooks   \n",
              "396   SSEE041                                        Smartphones   \n",
              "397  SSFV031A           Food at elementary and secondary schools   \n",
              "398   SSGE013                                 Infants' equipment   \n",
              "399   SSHJ031                                 Infants' furniture   \n",
              "\n",
              "     display_level selectable  sort_sequence  \n",
              "0                0          T              2  \n",
              "1                0          T            400  \n",
              "2                0          T              1  \n",
              "3                1          T            375  \n",
              "4                1          T            359  \n",
              "..             ...        ...            ...  \n",
              "395              3          T            314  \n",
              "396              4          T            335  \n",
              "397              3          T            122  \n",
              "398              3          T            356  \n",
              "399              3          T            165  \n",
              "\n",
              "[400 rows x 5 columns]"
            ]
          },
          "execution_count": 52,
          "metadata": {},
          "output_type": "execute_result"
        }
      ],
      "source": [
        "#  using this way we can convert any file into memory fila formate\n",
        "# here we use \\ becoz file mein seprated ke liye yhi use tha\n",
        "pd.read_csv('https://download.bls.gov/pub/time.series/cu/cu.item',sep='\\t')"
      ]
    },
    {
      "cell_type": "code",
      "execution_count": null,
      "id": "4233d884",
      "metadata": {
        "id": "4233d884"
      },
      "outputs": [],
      "source": []
    },
    {
      "cell_type": "code",
      "execution_count": null,
      "id": "0480dced",
      "metadata": {
        "id": "0480dced"
      },
      "outputs": [],
      "source": []
    },
    {
      "cell_type": "code",
      "execution_count": null,
      "id": "96df1a01",
      "metadata": {
        "id": "96df1a01"
      },
      "outputs": [],
      "source": []
    },
    {
      "cell_type": "code",
      "execution_count": null,
      "id": "89b64f78",
      "metadata": {
        "id": "89b64f78"
      },
      "outputs": [],
      "source": []
    }
  ],
  "metadata": {
    "kernelspec": {
      "display_name": "Python 3 (ipykernel)",
      "language": "python",
      "name": "python3"
    },
    "language_info": {
      "codemirror_mode": {
        "name": "ipython",
        "version": 3
      },
      "file_extension": ".py",
      "mimetype": "text/x-python",
      "name": "python",
      "nbconvert_exporter": "python",
      "pygments_lexer": "ipython3",
      "version": "3.9.7"
    },
    "colab": {
      "provenance": [],
      "include_colab_link": true
    }
  },
  "nbformat": 4,
  "nbformat_minor": 5
}